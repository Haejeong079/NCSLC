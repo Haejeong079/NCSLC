{
 "cells": [
  {
   "cell_type": "code",
   "execution_count": 4,
   "id": "68231376",
   "metadata": {},
   "outputs": [],
   "source": [
    "import scanpy as sc\n",
    "\n",
    "adata = sc.read_h5ad(\"adata_qc.h5ad\")"
   ]
  },
  {
   "cell_type": "code",
   "execution_count": 8,
   "id": "f3663aeb",
   "metadata": {},
   "outputs": [
    {
     "name": "stdout",
     "output_type": "stream",
     "text": [
      "KeysView(AxisArrays with keys: X_pca, X_pca_harmony, X_umap)\n"
     ]
    }
   ],
   "source": [
    "print(adata.obsm.keys())"
   ]
  },
  {
   "cell_type": "code",
   "execution_count": 9,
   "id": "6b9a3efa",
   "metadata": {},
   "outputs": [
    {
     "name": "stdout",
     "output_type": "stream",
     "text": [
      "leiden\n",
      "0     8931\n",
      "1     7697\n",
      "2     5605\n",
      "3     5557\n",
      "4     5151\n",
      "5     4747\n",
      "6     4538\n",
      "7     3410\n",
      "8     3064\n",
      "9     3060\n",
      "10    2778\n",
      "11    2358\n",
      "12    1954\n",
      "13    1701\n",
      "14    1483\n",
      "15    1468\n",
      "16    1466\n",
      "17    1000\n",
      "18     466\n",
      "19     466\n",
      "20     332\n",
      "21     187\n",
      "22     184\n",
      "Name: count, dtype: int64\n"
     ]
    }
   ],
   "source": [
    "# leiden clusters 확인\n",
    "print(adata.obs['leiden'].value_counts())"
   ]
  },
  {
   "cell_type": "code",
   "execution_count": null,
   "id": "1f81fbda",
   "metadata": {},
   "outputs": [],
   "source": []
  }
 ],
 "metadata": {
  "kernelspec": {
   "display_name": "rna_analysis_py310",
   "language": "python",
   "name": "python3"
  },
  "language_info": {
   "codemirror_mode": {
    "name": "ipython",
    "version": 3
   },
   "file_extension": ".py",
   "mimetype": "text/x-python",
   "name": "python",
   "nbconvert_exporter": "python",
   "pygments_lexer": "ipython3",
   "version": "3.10.18"
  }
 },
 "nbformat": 4,
 "nbformat_minor": 5
}
